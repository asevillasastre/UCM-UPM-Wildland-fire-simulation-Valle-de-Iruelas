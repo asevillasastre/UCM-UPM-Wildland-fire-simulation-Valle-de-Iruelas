{
 "cells": [
  {
   "cell_type": "code",
   "execution_count": 28,
   "metadata": {},
   "outputs": [],
   "source": [
    "# Librerías\n",
    "# ======================================================================================\n",
    "import networkx as nx\n",
    "import pandas as pd\n",
    "import warnings\n",
    "import matplotlib.pyplot as plt\n",
    "from PIL import Image"
   ]
  },
  {
   "cell_type": "code",
   "execution_count": 29,
   "metadata": {},
   "outputs": [
    {
     "ename": "FileNotFoundError",
     "evalue": "[Errno 2] No such file or directory: 'mapa_iruelas.jpg'",
     "output_type": "error",
     "traceback": [
      "\u001b[1;31m---------------------------------------------------------------------------\u001b[0m",
      "\u001b[1;31mFileNotFoundError\u001b[0m                         Traceback (most recent call last)",
      "Cell \u001b[1;32mIn[29], line 31\u001b[0m\n\u001b[0;32m     25\u001b[0m pos \u001b[38;5;241m=\u001b[39m {\u001b[38;5;124m\"\u001b[39m\u001b[38;5;124mCB\u001b[39m\u001b[38;5;124m\"\u001b[39m, \u001b[38;5;124m\"\u001b[39m\u001b[38;5;124m4U\u001b[39m\u001b[38;5;124m\"\u001b[39m, \u001b[38;5;124m\"\u001b[39m\u001b[38;5;124m3B\u001b[39m\u001b[38;5;124m\"\u001b[39m, \u001b[38;5;124m\"\u001b[39m\u001b[38;5;124m3A\u001b[39m\u001b[38;5;124m\"\u001b[39m, \u001b[38;5;124m\"\u001b[39m\u001b[38;5;124m1A\u001b[39m\u001b[38;5;124m\"\u001b[39m, \u001b[38;5;124m\"\u001b[39m\u001b[38;5;124mET\u001b[39m\u001b[38;5;124m\"\u001b[39m,\n\u001b[0;32m     26\u001b[0m                  \u001b[38;5;124m\"\u001b[39m\u001b[38;5;124m51\u001b[39m\u001b[38;5;124m\"\u001b[39m, \u001b[38;5;124m\"\u001b[39m\u001b[38;5;124m2B\u001b[39m\u001b[38;5;124m\"\u001b[39m, \u001b[38;5;124m\"\u001b[39m\u001b[38;5;124m1B\u001b[39m\u001b[38;5;124m\"\u001b[39m, \u001b[38;5;124m\"\u001b[39m\u001b[38;5;124mPY\u001b[39m\u001b[38;5;124m\"\u001b[39m, \n\u001b[0;32m     27\u001b[0m                  \u001b[38;5;124m\"\u001b[39m\u001b[38;5;124mLE\u001b[39m\u001b[38;5;124m\"\u001b[39m, \u001b[38;5;124m\"\u001b[39m\u001b[38;5;124m2A\u001b[39m\u001b[38;5;124m\"\u001b[39m, \u001b[38;5;124m\"\u001b[39m\u001b[38;5;124m52\u001b[39m\u001b[38;5;124m\"\u001b[39m, \n\u001b[0;32m     28\u001b[0m                  \u001b[38;5;124m\"\u001b[39m\u001b[38;5;124mCA\u001b[39m\u001b[38;5;124m\"\u001b[39m}\n\u001b[0;32m     30\u001b[0m \u001b[38;5;66;03m# Cargar la imagen de fondo\u001b[39;00m\n\u001b[1;32m---> 31\u001b[0m img \u001b[38;5;241m=\u001b[39m \u001b[43mImage\u001b[49m\u001b[38;5;241;43m.\u001b[39;49m\u001b[43mopen\u001b[49m\u001b[43m(\u001b[49m\u001b[38;5;124;43m'\u001b[39;49m\u001b[38;5;124;43mmapa_iruelas.jpg\u001b[39;49m\u001b[38;5;124;43m'\u001b[39;49m\u001b[43m)\u001b[49m\n\u001b[0;32m     34\u001b[0m \u001b[38;5;66;03m# Mostrar la imagen de fondo\u001b[39;00m\n\u001b[0;32m     35\u001b[0m ax\u001b[38;5;241m.\u001b[39mimshow(img, extent\u001b[38;5;241m=\u001b[39m[\u001b[38;5;241m0\u001b[39m, \u001b[38;5;241m1\u001b[39m, \u001b[38;5;241m0\u001b[39m, \u001b[38;5;241m1\u001b[39m])  \u001b[38;5;66;03m# Ajustamos la imagen al rango [0, 1]\u001b[39;00m\n",
      "File \u001b[1;32mc:\\Users\\antos\\AppData\\Local\\Programs\\Python\\Python312\\Lib\\site-packages\\PIL\\Image.py:3247\u001b[0m, in \u001b[0;36mopen\u001b[1;34m(fp, mode, formats)\u001b[0m\n\u001b[0;32m   3244\u001b[0m     filename \u001b[38;5;241m=\u001b[39m fp\n\u001b[0;32m   3246\u001b[0m \u001b[38;5;28;01mif\u001b[39;00m filename:\n\u001b[1;32m-> 3247\u001b[0m     fp \u001b[38;5;241m=\u001b[39m \u001b[43mbuiltins\u001b[49m\u001b[38;5;241;43m.\u001b[39;49m\u001b[43mopen\u001b[49m\u001b[43m(\u001b[49m\u001b[43mfilename\u001b[49m\u001b[43m,\u001b[49m\u001b[43m \u001b[49m\u001b[38;5;124;43m\"\u001b[39;49m\u001b[38;5;124;43mrb\u001b[39;49m\u001b[38;5;124;43m\"\u001b[39;49m\u001b[43m)\u001b[49m\n\u001b[0;32m   3248\u001b[0m     exclusive_fp \u001b[38;5;241m=\u001b[39m \u001b[38;5;28;01mTrue\u001b[39;00m\n\u001b[0;32m   3250\u001b[0m \u001b[38;5;28;01mtry\u001b[39;00m:\n",
      "\u001b[1;31mFileNotFoundError\u001b[0m: [Errno 2] No such file or directory: 'mapa_iruelas.jpg'"
     ]
    }
   ],
   "source": [
    "# Creación de un grafo dirigido\".\n",
    "# ======================================================================================\n",
    "G = nx.DiGraph()\n",
    "\n",
    "# Conexiones\n",
    "direccion_1 = [(\"CB\", \"4U\"), (\"4U\", \"3B\"), (\"3B\", \"3A\"), (\"3A\", \"1A\"), (\"1A\", \"ET\"),\n",
    "               (\"4U\", \"51\"), (\"3B\", \"51\"), (\"3A\", \"51\"), (\"3A\", \"2B\"), (\"1A\", \"1B\"),\n",
    "               (\"51\", \"2B\"), (\"2B\", \"1B\"), (\"1B\", \"PY\"),\n",
    "               (\"51\", \"LE\"), (\"51\", \"2A\"), (\"1B\", \"2A\"), (\"1B\", \"52\"), (\"52\", \"PY\"),\n",
    "               (\"LE\", \"2A\"), (\"2A\", \"52\"),\n",
    "               (\"2A\", \"CA\"), (\"52\", \"CA\")\n",
    "                ]\n",
    "\n",
    "direccion_2 = []\n",
    "for i in direccion_1:\n",
    "    direccion_2.append((i[1], i[0]))\n",
    "\n",
    "G.add_nodes_from([\"CB\", \"4U\", \"3B\", \"3A\", \"1A\", \"ET\",\n",
    "                 \"51\", \"2B\", \"1B\", \"PY\", \n",
    "                 \"LE\", \"2A\", \"52\", \n",
    "                 \"CA\"])\n",
    "G.add_edges_from(direccion_1)\n",
    "G.add_edges_from(direccion_2)\n",
    "\n",
    "pos = {\"CB\", \"4U\", \"3B\", \"3A\", \"1A\", \"ET\",\n",
    "                 \"51\", \"2B\", \"1B\", \"PY\", \n",
    "                 \"LE\", \"2A\", \"52\", \n",
    "                 \"CA\"}\n",
    "\n",
    "# Cargar la imagen de fondo\n",
    "img = Image.open('mapa_iruelas.jpg')\n",
    "\n",
    "\n",
    "# Mostrar la imagen de fondo\n",
    "ax.imshow(img, extent=[0, 1, 0, 1])  # Ajustamos la imagen al rango [0, 1]\n",
    "\n",
    "warnings.filterwarnings(\"ignore\")\n",
    "\n",
    "# Representación gráfica\n",
    "fig, ax = plt.subplots(figsize=(10,6))\n",
    "nx.draw(G, with_labels=True, ax=ax)\n",
    "\n",
    "plt.show()"
   ]
  },
  {
   "cell_type": "code",
   "execution_count": null,
   "metadata": {},
   "outputs": [],
   "source": [
    "# Creacion del grafo\n",
    "G = nx.Graph()\n",
    "\n",
    "# Nodos y vonexiones\n",
    "G.add_weighted_edges_from(\n",
    "    [(1, 2, 0.5),\n",
    "    (2, 3, 0.9),\n",
    "    (1, 4, 0.1),\n",
    "    (1, 5, 0.75),\n",
    "    (4, 2, 0.01),\n",
    "    (5, 4, 0.3)]\n",
    ")\n",
    "G.edges(data=True)"
   ]
  }
 ],
 "metadata": {
  "kernelspec": {
   "display_name": "Python 3",
   "language": "python",
   "name": "python3"
  },
  "language_info": {
   "codemirror_mode": {
    "name": "ipython",
    "version": 3
   },
   "file_extension": ".py",
   "mimetype": "text/x-python",
   "name": "python",
   "nbconvert_exporter": "python",
   "pygments_lexer": "ipython3",
   "version": "3.12.0"
  }
 },
 "nbformat": 4,
 "nbformat_minor": 2
}
